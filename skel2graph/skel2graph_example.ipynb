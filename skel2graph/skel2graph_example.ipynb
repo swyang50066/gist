{
 "cells": [
  {
   "cell_type": "markdown",
   "id": "f4545d98-11bd-43e6-9ff3-28cb907abeb4",
   "metadata": {},
   "source": [
    "### **SKEL2GRAPH: Graph Extraction Algorithm from Skeletonized Volume**\n",
    "Following script is an application example of 'SKEL2GRAPH' algorithm."
   ]
  },
  {
   "cell_type": "code",
   "execution_count": 1,
   "id": "e76fe378-85b1-4f35-8707-16e06b8ee7d8",
   "metadata": {},
   "outputs": [],
   "source": [
    "# Include modules\n",
    "import numpy as np\n",
    "from skimage.morphology import skeletonize_3d\n",
    "\n",
    "import matplotlib.pyplot as plt\n",
    "from mpl_toolkits.mplot3d import Axes3D\n",
    "\n",
    "from skel2graph import skel2graph"
   ]
  },
  {
   "cell_type": "code",
   "execution_count": 9,
   "id": "90ad07b6-1373-42ff-bdc3-114cfc51253f",
   "metadata": {},
   "outputs": [],
   "source": [
    "%matplotlib tk\n",
    "\n",
    "def drawGraph(volume, skel, graph):\n",
    "    # Get dimensions\n",
    "    height, width, depth = skel.shape\n",
    "    \n",
    "    # Set plot components\n",
    "    fig = plt.figure(figsize=(10, 10))\n",
    "    ax = fig.add_subplot(111, projection='3d')\n",
    "    ax.set_xlim([0, height])\n",
    "    ax.set_ylim([0, width])\n",
    "    ax.set_zlim([0, depth])\n",
    "\n",
    "    # Get mesh grid\n",
    "    ii, jj = np.meshgrid(np.arange(height),\n",
    "                         np.arange(width),\n",
    "                         indexing=\"ij\")\n",
    "    \n",
    "    # Plot skel volume\n",
    "    for k in range(depth):\n",
    "        ax.contourf(ii, jj, volume[..., k],\n",
    "                    zdir=\"z\", offset=k,\n",
    "                    cmap=\"Greens\", alpha=.1,\n",
    "                    vmin=0., vmax=1., \n",
    "                    levels=np.linspace(.1, 1, 2))\n",
    "        ax.contourf(ii, jj, skel[..., k],\n",
    "                    zdir=\"z\", offset=k,\n",
    "                    cmap=\"Greys\", alpha=1.,\n",
    "                    vmin=0., vmax=1., \n",
    "                    levels=np.linspace(.1, 1, 2))\n",
    "\n",
    "    # Plot connectivity\n",
    "    for (p, q), path in graph.items():\n",
    "        ax.quiver(p[0], p[1], p[2],\n",
    "                  q[0]-p[0], q[1]-p[1], q[2]-p[2])\n",
    "        \n",
    "        ax.scatter(path[:, 0], path[:, 1], path[:, 2], s=5)\n",
    "    \n",
    "\n",
    "    plt.show()\n",
    "\n",
    "# Make test volume\n",
    "volume = np.zeros((256, 256, 256), dtype=np.uint8)\n",
    "volume[112:144, 112:144, 16:-16] = 1\n",
    "volume[112:144, 16:-16, 112:144] = 1\n",
    "volume[16:-16, 112:144, 112:144] = 1\n",
    "\n",
    "# Extract skeleton\n",
    "skel = skeletonize_3d(volume)\n",
    "\n",
    "# Get graph network\n",
    "graph = skel2graph(skel)\n",
    "\n",
    "# Draw graph network\n",
    "drawGraph(volume, skel, graph)"
   ]
  },
  {
   "cell_type": "code",
   "execution_count": null,
   "id": "42297a27-3318-431e-8960-2e0978c1223b",
   "metadata": {},
   "outputs": [],
   "source": []
  }
 ],
 "metadata": {
  "kernelspec": {
   "display_name": "Python 3",
   "language": "python",
   "name": "python3"
  },
  "language_info": {
   "codemirror_mode": {
    "name": "ipython",
    "version": 3
   },
   "file_extension": ".py",
   "mimetype": "text/x-python",
   "name": "python",
   "nbconvert_exporter": "python",
   "pygments_lexer": "ipython3",
   "version": "3.8.8"
  }
 },
 "nbformat": 4,
 "nbformat_minor": 5
}
