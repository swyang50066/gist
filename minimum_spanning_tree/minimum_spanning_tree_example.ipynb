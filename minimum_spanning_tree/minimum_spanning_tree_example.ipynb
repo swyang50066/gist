{
 "cells": [
  {
   "cell_type": "code",
   "execution_count": 1,
   "metadata": {},
   "outputs": [],
   "source": [
    "import cv2\n",
    "import numpy as np\n",
    "\n",
    "import matplotlib.pyplot as plt\n",
    "\n",
    "from minimum_spanning_tree_kruskal import GraphUndirectedWeighted\n",
    "from minimum_spanning_tree_prim import PrimMST\n",
    "from minimum_spanning_tree_kruskal import KruskalMST"
   ]
  },
  {
   "cell_type": "code",
   "execution_count": 2,
   "metadata": {},
   "outputs": [],
   "source": [
    "# Load sample image\n",
    "'''\n",
    "imsample = np.array([[0, 0, 1, 0, 0],\n",
    "                     [0, 1, 4, 1, 0],\n",
    "                     [1, 4, 6, 4, 1],\n",
    "                     [0, 1, 4, 1, 0],\n",
    "                     [0, 0, 1, 0, 0]])\n",
    "'''\n",
    "imsample = cv2.imread(\"./cameraman.png\")[..., 0].astype(np.float32)\n",
    "imsample = (imsample - imsample.min())/(imsample.max() - imsample.min())\n",
    "imsample = imsample[251:271, 251:271]\n",
    "\n",
    "# Build undirected/weighted image graph\n",
    "graph = GraphUndirectedWeighted(imsample)(output=\"graph\")\n",
    "conns = GraphUndirectedWeighted(imsample)(output=\"connection\")\n",
    "\n",
    "# Print results\n",
    "#for k, v in graph.items():\n",
    "#    print(\"Node => [%d]\"%k, v)\n",
    "#for node in nodes:\n",
    "#    print(\"SortedWeighted Nodes\", node)"
   ]
  },
  {
   "cell_type": "code",
   "execution_count": 9,
   "metadata": {},
   "outputs": [],
   "source": [
    "def drawMSF(x, leaves):\n",
    "    # Get input shape\n",
    "    height, width = x.shape\n",
    "    \n",
    "    # Gray-scale\n",
    "    gray = 255*(x - x.min())/(x.max() - x.min())\n",
    "\n",
    "    # Define plot components\n",
    "    fig, axes = plt.subplots(nrows=1, ncols=1, figsize=(6, 6))\n",
    "\n",
    "    visited = list()\n",
    "    \n",
    "    # Plot MSF\n",
    "    axes.imshow(gray, cmap=\"Greys\")\n",
    "    for leaf in leaves:\n",
    "        # Mark leaf node\n",
    "        xa, ya = leaf.index//width, leaf.index%width\n",
    "        axes.scatter(ya, xa, color=\"Blue\", s=20, marker=\"s\")\n",
    "\n",
    "        while leaf.parent:\n",
    "            # Mark branch node\n",
    "            a, b = leaf.parent.index, leaf.index\n",
    "        \n",
    "            if (a, b) in visited or (b, a) in visited:\n",
    "                continue\n",
    "            else:\n",
    "                visited.append((a, b))\n",
    "                visited.append((b, a))\n",
    "        \n",
    "                xa, ya = a//width, a%width\n",
    "                xb, yb = b//width, b%width\n",
    "        \n",
    "                axes.scatter(ya, xa, color=\"Red\", s=20)\n",
    "                axes.arrow(ya, xa, yb-ya, xb-xa, \n",
    "                           color=\"lime\", \n",
    "                           head_width=.05, \n",
    "                           head_length=.1)\n",
    "\n",
    "            # Mark root node\n",
    "            if leaf.parent == None:\n",
    "                axes.scatter(ya, xa, color=\"Green\", s=20, marker=\"D\")\n",
    "                \n",
    "            # Upstream\n",
    "            leaf = leaf.parent\n"
   ]
  },
  {
   "cell_type": "code",
   "execution_count": null,
   "metadata": {},
   "outputs": [],
   "source": [
    "# Find minimum spanning tree with Prim's algorithm\n",
    "leaves = PrimMST(graph)\n",
    "\n",
    "# Draw MSF\n",
    "drawMSF(imsample, leaves)"
   ]
  },
  {
   "cell_type": "code",
   "execution_count": null,
   "metadata": {},
   "outputs": [],
   "source": [
    "# Find minimum spanning tree with Kruskal's algorithm\n",
    "leaves = KruskalMST(graph, conns)\n",
    "\n",
    "# Draw MSF\n",
    "drawMSF(imsample, leaves)"
   ]
  }
 ],
 "metadata": {
  "kernelspec": {
   "display_name": "Python 3",
   "language": "python",
   "name": "python3"
  },
  "language_info": {
   "codemirror_mode": {
    "name": "ipython",
    "version": 3
   },
   "file_extension": ".py",
   "mimetype": "text/x-python",
   "name": "python",
   "nbconvert_exporter": "python",
   "pygments_lexer": "ipython3",
   "version": "3.8.8"
  }
 },
 "nbformat": 4,
 "nbformat_minor": 4
}
