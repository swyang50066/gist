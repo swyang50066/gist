{
 "cells": [
  {
   "cell_type": "markdown",
   "id": "f4545d98-11bd-43e6-9ff3-28cb907abeb4",
   "metadata": {},
   "source": [
    "### **A\\* Algorithm for 2D/3D path finding (Greedy Search)**\n",
    "This code implements A\\* algorithm to find a path for given 2D/3D domains.\n",
    "Following script is a usage example of this code."
   ]
  },
  {
   "cell_type": "code",
   "execution_count": 14,
   "id": "e76fe378-85b1-4f35-8707-16e06b8ee7d8",
   "metadata": {},
   "outputs": [],
   "source": [
    "# Include modules\n",
    "import numpy as np\n",
    "from AStar import AStar"
   ]
  },
  {
   "cell_type": "code",
   "execution_count": 17,
   "id": "5c8e1a5b-0191-4ed1-9cd9-bbe27d883d18",
   "metadata": {},
   "outputs": [
    {
     "name": "stdout",
     "output_type": "stream",
     "text": [
      "[['*' '0' '1' '0' '0' '0']\n",
      " ['1' '0' '0' '1' '0' '1']\n",
      " ['1' '1' '0' '0' '0' '0']\n",
      " ['0' '1' '1' '0' '1' '1']\n",
      " ['0' '0' '0' '0' '1' '@']\n",
      " ['0' '1' '1' '0' '0' '0']]\n"
     ]
    }
   ],
   "source": [
    "# Make example maze\n",
    "start = (0, 0)    # * marker\n",
    "end = (4, 5)    # @ marker\n",
    "maze = np.array([\n",
    "    [0, 0, 1, 0, 0, 0],\n",
    "    [1, 0, 0, 1, 0, 1],\n",
    "    [1, 1, 0, 0, 0, 0],\n",
    "    [0, 1, 1, 0, 1, 1],\n",
    "    [0, 0, 0, 0, 1, 0],\n",
    "    [0, 1, 1, 0, 0, 0]\n",
    "])    # 0: load, 1: obstacle\n",
    "\n",
    "# Print maze\n",
    "display_maze = maze.copy().astype(str)\n",
    "display_maze[start] = \"*\"\n",
    "display_maze[end] = \"@\"\n",
    "\n",
    "print(display_maze)"
   ]
  },
  {
   "cell_type": "code",
   "execution_count": 16,
   "id": "b198a1dc-cf5c-4d15-9a78-a3ca0619964f",
   "metadata": {},
   "outputs": [
    {
     "name": "stdout",
     "output_type": "stream",
     "text": [
      "[['*' '0' '#' '0' '0' '0']\n",
      " ['#' '1' '0' '#' '0' '#']\n",
      " ['#' '#' '2' '0' '0' '0']\n",
      " ['0' '#' '#' '3' '#' '#']\n",
      " ['0' '0' '0' '4' '#' '@']\n",
      " ['0' '#' '#' '0' '5' '0']]\n"
     ]
    }
   ],
   "source": [
    "# Apply A* algorithm\n",
    "path = AStar(start, end, maze)\n",
    "\n",
    "# Print maze\n",
    "display_maze = maze.copy().astype(str)\n",
    "display_maze[start] = \"*\"\n",
    "display_maze[end] = \"@\"\n",
    "display_maze[maze == 1] = \"#\"    # + marker for walls\n",
    "\n",
    "# Number is step\n",
    "for k, (i, j) in enumerate(path[1:-1]):\n",
    "    display_maze[i, j] = str(k+1)\n",
    "    \n",
    "print(display_maze)"
   ]
  },
  {
   "cell_type": "code",
   "execution_count": null,
   "id": "3c5182fa-4401-490c-af15-d0e8bd73a878",
   "metadata": {},
   "outputs": [],
   "source": []
  },
  {
   "cell_type": "code",
   "execution_count": null,
   "id": "90ad07b6-1373-42ff-bdc3-114cfc51253f",
   "metadata": {},
   "outputs": [],
   "source": []
  }
 ],
 "metadata": {
  "kernelspec": {
   "display_name": "Python 3",
   "language": "python",
   "name": "python3"
  },
  "language_info": {
   "codemirror_mode": {
    "name": "ipython",
    "version": 3
   },
   "file_extension": ".py",
   "mimetype": "text/x-python",
   "name": "python",
   "nbconvert_exporter": "python",
   "pygments_lexer": "ipython3",
   "version": "3.8.8"
  }
 },
 "nbformat": 4,
 "nbformat_minor": 5
}
